{
 "cells": [
  {
   "cell_type": "markdown",
   "metadata": {},
   "source": [
    "# Initializations"
   ]
  },
  {
   "cell_type": "code",
   "execution_count": 2,
   "metadata": {},
   "outputs": [],
   "source": [
    "import requests, sys\n",
    "import json\n",
    "import numpy as np\n",
    "import matplotlib.pyplot as plt\n",
    "try:\n",
    "    import pandas as pd\n",
    "    if pd.__version__ > \"0.22.0\":\n",
    "        has_pandas = True\n",
    "    else:\n",
    "        has_pandas = False\n",
    "except ImportError:\n",
    "    has_pandas = False\n",
    "\n",
    "%matplotlib inline\n",
    " \n",
    "server = \"http://rest.ensembl.org\"\n",
    "headers={ \"Content-Type\" : \"application/json\", \"Accept\" : \"application/json\"}"
   ]
  },
  {
   "cell_type": "markdown",
   "metadata": {},
   "source": [
    "# Lookup"
   ]
  },
  {
   "cell_type": "code",
   "execution_count": 3,
   "metadata": {},
   "outputs": [],
   "source": [
    "ext = \"/lookup/id\"\n",
    "# Get lookup data\n",
    "r = requests.post(server+ext, headers=headers, data='{ \"expand\" : 1, \"ids\" : [\"ENSG00000157764\"] }')\n",
    "\n",
    "if not r.ok:\n",
    "    r.raise_for_status()\n",
    "    sys.exit()\n",
    "    \n",
    "found = json.loads(r.text)\n"
   ]
  },
  {
   "cell_type": "markdown",
   "metadata": {},
   "source": [
    "# Get sequences"
   ]
  },
  {
   "cell_type": "code",
   "execution_count": 4,
   "metadata": {},
   "outputs": [
    {
     "name": "stdout",
     "output_type": "stream",
     "text": [
      "{\"ids\": [\"ENST00000496384\", \"ENST00000644120\", \"ENST00000642875\", \"ENST00000644969\", \"ENST00000646891\", \"ENST00000644905\", \"ENST00000642228\", \"ENST00000288602\", \"ENST00000645443\", \"ENST00000646730\", \"ENST00000479537\", \"ENST00000647434\", \"ENST00000644650\", \"ENST00000497784\", \"ENST00000646334\", \"ENST00000642272\", \"ENST00000643356\", \"ENST00000642808\", \"ENST00000643790\", \"ENST00000646427\", \"ENST00000469930\"]}\n"
     ]
    }
   ],
   "source": [
    "# Create list of ID\n",
    "IDs = []\n",
    "for transcripts in found.values():\n",
    "    for transcript in transcripts[\"Transcript\"]:\n",
    "        IDs.append(transcript[\"id\"])\n",
    "        \n",
    "dquotes_ids=json.dumps({\"ids\" : IDs})\n",
    "print(dquotes_ids)\n",
    "\n",
    "# Get sequence data\n",
    "ext = \"/sequence/id\"\n",
    "\n",
    "# Make request and check status\n",
    "r = requests.post(server+ext, headers = headers, data = dquotes_ids)\n",
    "if not r.ok:\n",
    "    r.raise_for_status()\n",
    "    sys.exit()\n",
    "    \n",
    "json_data = json.loads(r.text)"
   ]
  },
  {
   "cell_type": "markdown",
   "metadata": {
    "lang": "en"
   },
   "source": [
    "# Get triplets\n",
    "\n",
    "From position 102 of each sequence. I am taking into account the position 102 of the string in python, which starts counting from position 0, as most programming languages do. If we wanted position 102 to start counting from 1 as the position of first base, line 4 would be:\n",
    "\n",
    "```python\n",
    " triplet = record[\"seq\"][101:104]\n",
    "```"
   ]
  },
  {
   "cell_type": "code",
   "execution_count": 6,
   "metadata": {},
   "outputs": [
    {
     "data": {
      "text/html": [
       "<div>\n",
       "<style scoped>\n",
       "    .dataframe tbody tr th:only-of-type {\n",
       "        vertical-align: middle;\n",
       "    }\n",
       "\n",
       "    .dataframe tbody tr th {\n",
       "        vertical-align: top;\n",
       "    }\n",
       "\n",
       "    .dataframe thead th {\n",
       "        text-align: right;\n",
       "    }\n",
       "</style>\n",
       "<table border=\"1\" class=\"dataframe\">\n",
       "  <thead>\n",
       "    <tr style=\"text-align: right;\">\n",
       "      <th></th>\n",
       "      <th>Count</th>\n",
       "    </tr>\n",
       "  </thead>\n",
       "  <tbody>\n",
       "    <tr>\n",
       "      <th>ATA</th>\n",
       "      <td>1</td>\n",
       "    </tr>\n",
       "    <tr>\n",
       "      <th>GAC</th>\n",
       "      <td>3</td>\n",
       "    </tr>\n",
       "    <tr>\n",
       "      <th>GTA</th>\n",
       "      <td>2</td>\n",
       "    </tr>\n",
       "    <tr>\n",
       "      <th>GCC</th>\n",
       "      <td>3</td>\n",
       "    </tr>\n",
       "    <tr>\n",
       "      <th>CCG</th>\n",
       "      <td>4</td>\n",
       "    </tr>\n",
       "    <tr>\n",
       "      <th>GGC</th>\n",
       "      <td>2</td>\n",
       "    </tr>\n",
       "    <tr>\n",
       "      <th>TAG</th>\n",
       "      <td>1</td>\n",
       "    </tr>\n",
       "    <tr>\n",
       "      <th>TCC</th>\n",
       "      <td>1</td>\n",
       "    </tr>\n",
       "    <tr>\n",
       "      <th>CAT</th>\n",
       "      <td>1</td>\n",
       "    </tr>\n",
       "    <tr>\n",
       "      <th>CTC</th>\n",
       "      <td>1</td>\n",
       "    </tr>\n",
       "    <tr>\n",
       "      <th>GCG</th>\n",
       "      <td>1</td>\n",
       "    </tr>\n",
       "    <tr>\n",
       "      <th>TCT</th>\n",
       "      <td>1</td>\n",
       "    </tr>\n",
       "  </tbody>\n",
       "</table>\n",
       "</div>"
      ],
      "text/plain": [
       "     Count\n",
       "ATA      1\n",
       "GAC      3\n",
       "GTA      2\n",
       "GCC      3\n",
       "CCG      4\n",
       "GGC      2\n",
       "TAG      1\n",
       "TCC      1\n",
       "CAT      1\n",
       "CTC      1\n",
       "GCG      1\n",
       "TCT      1"
      ]
     },
     "metadata": {},
     "output_type": "display_data"
    },
    {
     "data": {
      "image/png": "[encoded data removed]",
      "text/plain": [
       "<Figure size 432x288 with 1 Axes>"
      ]
     },
     "metadata": {
      "needs_background": "light"
     },
     "output_type": "display_data"
    }
   ],
   "source": [
    "count_triplets = {}\n",
    "count_all = 0\n",
    "for record in json_data:\n",
    "    triplet = record[\"seq\"][102:105]\n",
    "    count_all += 1\n",
    "    if triplet in count_triplets:\n",
    "        count_triplets[triplet] += 1\n",
    "    else:\n",
    "        count_triplets[triplet] = 1\n",
    "\n",
    "if has_pandas:\n",
    "    df = pd.DataFrame.from_dict(count_triplets, orient='index', columns=['Count'])\n",
    "    display(df)\n",
    "else:\n",
    "    display(count_triplets)\n",
    "plt.bar(count_triplets.keys(), count_triplets.values())\n",
    "plt.xlabel('Triplets')\n",
    "_ = plt.ylabel('Count')"
   ]
  },
  {
   "cell_type": "markdown",
   "metadata": {
    "latex_metadata": {
     "hidden": "true"
    }
   },
   "source": [
    "# Outputs"
   ]
  },
  {
   "cell_type": "code",
   "execution_count": 9,
   "metadata": {
    "latex_metadata": {
     "hidden": "true",
     "lexer": "bash"
    },
    "scrolled": true
   },
   "outputs": [
    {
     "name": "stderr",
     "output_type": "stream",
     "text": [
      "[NbConvertApp] Converting notebook find_bases.ipynb to latex\n",
      "[NbConvertApp] Support files will be in find_bases_files/\n",
      "[NbConvertApp] Making directory find_bases_files\n",
      "[NbConvertApp] Writing 28783 bytes to find_bases.tex\n"
     ]
    }
   ],
   "source": [
    "%%bash\n",
    "jupyter nbconvert --to=latex --template=~/report.tplx find_bases.ipynb 1> /dev/null\n",
    "pdflatex -shell-escape find_bases 1> /dev/null"
   ]
  }
 ],
 "metadata": {
  "celltoolbar": "Edit Metadata",
  "hide_input": false,
  "kernelspec": {
   "display_name": "Python 3",
   "language": "python",
   "name": "python3"
  },
  "language_info": {
   "codemirror_mode": {
    "name": "ipython",
    "version": 3
   },
   "file_extension": ".py",
   "mimetype": "text/x-python",
   "name": "python",
   "nbconvert_exporter": "python",
   "pygments_lexer": "ipython3",
   "version": "3.6.6"
  },
  "latex_envs": {
   "LaTeX_envs_menu_present": true,
   "autoclose": false,
   "autocomplete": true,
   "bibliofile": "biblio.bib",
   "cite_by": "apalike",
   "current_citInitial": 1,
   "eqLabelWithNumbers": true,
   "eqNumInitial": 1,
   "hotkeys": {
    "equation": "Ctrl-E",
    "itemize": "Ctrl-I"
   },
   "labels_anchors": false,
   "latex_user_defs": false,
   "report_style_numbering": false,
   "user_envs_cfg": false
  },
  "nbTranslate": {
   "displayLangs": [
    "en",
    "sp"
   ],
   "hotkey": "alt-t",
   "langInMainMenu": true,
   "sourceLang": "es",
   "targetLang": "en",
   "useGoogleTranslate": true
  },
  "toc": {
   "base_numbering": 1,
   "nav_menu": {},
   "number_sections": true,
   "sideBar": true,
   "skip_h1_title": false,
   "title_cell": "Table of Contents",
   "title_sidebar": "Contents",
   "toc_cell": false,
   "toc_position": {},
   "toc_section_display": true,
   "toc_window_display": true
  },
  "varInspector": {
   "cols": {
    "lenName": 16,
    "lenType": 16,
    "lenVar": 40
   },
   "kernels_config": {
    "python": {
     "delete_cmd_postfix": "",
     "delete_cmd_prefix": "del ",
     "library": "var_list.py",
     "varRefreshCmd": "print(var_dic_list())"
    },
    "r": {
     "delete_cmd_postfix": ") ",
     "delete_cmd_prefix": "rm(",
     "library": "var_list.r",
     "varRefreshCmd": "cat(var_dic_list()) "
    }
   },
   "types_to_exclude": [
    "module",
    "function",
    "builtin_function_or_method",
    "instance",
    "_Feature"
   ],
   "window_display": false
  }
 },
 "nbformat": 4,
 "nbformat_minor": 2
}
