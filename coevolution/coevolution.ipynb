{
 "cells": [
  {
   "cell_type": "markdown",
   "metadata": {},
   "source": [
    "# Look for coevolution Streptococcus-Lactobacillus\n",
    "\n",
    "Coevolution is everywhere. Because no species can be considered totally isolated from the others. And not only on a biological level, we perceive it in the lines of change in our societies, in political, scientific, religious ideas and even in the evolution of software engineering.\n",
    "\n",
    "The difficulty is to know how much co-evolution is due to the interaction between a pair of species, because the tandem can not be totally isolated from the rest of the universe either. No doubt the problem can not be solved only from the bioinformatic perspective, it is also necessary the contribution of other branches of knowledge such as microbiology, physics, mathematics and computer theory.\n",
    "\n",
    "Our approach consists in comparing the rates of protein evolutionary change between strains of Streptococcus and Lactobacillus linked by symbiotic pathways, and the rates between the rest of species of each genus.\n",
    "\n",
    "We postulate that the proteins that reflects a rate change with more significance, i.e., more speedy or more slowly that intra genus rates, are proteins that could be influenced by the symbiotic environment.\n",
    "\n",
    "To do so we need to compute separately both species of symbiotic tandem. The detailed steps are:\n",
    "\n",
    "1) Obtain all the proteome from this four groups of species:\n",
    "- Genus streptococcus\n",
    "- Strains of streptococcus termophilus.\n",
    "- Genus lactobacillus\n",
    "- Strains of lactobacillus bulgaricus.\n",
    "\n",
    "2) For each protein of each group we obtain the phylogenetic tree and compute the mean branch length. We suppose that we have ultrametricicy or almost ultrametricity. It can be not exact but it could serve as a reference. We use the clulstalw multialignment method, but other methods as T-COFFEE or MUSCLE could be used too. The branch length is a measure of the substitution rate.\n",
    "\n",
    "3) For each protein of the first an second group, we calculate the ration between branch length of termophilus and branch length of protein in genus. And also we compute the overall mean of all ratios. Finally we select the proteins with the most extreme values (80% percentile, two tailed).\n",
    "\n",
    "4) We do the same with lactobacillus (third an fourth groups). At this stage we have two sets of proteins.\n",
    "\n",
    "5) We obtain the biologic pathways of each of the sets of proteins.\n",
    "\n",
    "6) The proteins involved in the same pathways from lactobacillus ans streptoccocus are the target proteins influenced by the coevolution between the two species. It will be necessary a later microbiological study that confirms this expectancies and dive deeply in the details of this coevolution.\n"
   ]
  },
  {
   "cell_type": "markdown",
   "metadata": {},
   "source": [
    "## Obtain data from servers"
   ]
  },
  {
   "cell_type": "markdown",
   "metadata": {},
   "source": [
    "### Methods"
   ]
  },
  {
   "cell_type": "code",
   "execution_count": 109,
   "metadata": {},
   "outputs": [],
   "source": [
    "import requests, sys\n",
    "import pickle\n",
    "\n",
    "# Disc serialization methods\n",
    "def dump(obj, obj_name):\n",
    "    binary_file = open(obj_name + '.bin',mode='wb')\n",
    "    pickled_obj = pickle.dump(obj, binary_file)\n",
    "    binary_file.close()\n",
    "\n",
    "def load(obj_name):\n",
    "    with (open(obj_name + \".bin\", \"rb\")) as openfile:\n",
    "        while True:\n",
    "            try:\n",
    "                obj = pickle.load(openfile)\n",
    "            except EOFError:\n",
    "                break\n",
    "    return obj\n",
    "\n",
    "def load_taxa(scientific_prefix):\n",
    "    \"\"\"\n",
    "    \"\"\"\n",
    "    requestURL = \"https://www.ebi.ac.uk/proteins/api/taxonomy/name/\" + scientific_prefix +\\\n",
    "                \"%20?pageNumber=1&pageSize=100&searchType=STARTSWITH&fieldName=SCIENTIFICNAME\"\n",
    "\n",
    "    r = requests.get(requestURL, headers={ \"Accept\" : \"application/json\"})\n",
    "\n",
    "    if not r.ok:\n",
    "      r.raise_for_status()\n",
    "      sys.exit()\n",
    "\n",
    "    jsonBody = json.loads(r.text)\n",
    "    taxa = []\n",
    "    names = []\n",
    "    for taxonomy in jsonBody[\"taxonomies\"]:\n",
    "        print(taxonomy['taxonomyId'], taxonomy['scientificName'])\n",
    "        taxa.append(taxonomy['taxonomyId'])\n",
    "        names.append(taxonomy['scientificName'])\n",
    "    return taxa, names\n",
    "\n",
    "def load_proteome(taxids, size=10, protein=[\"LDH\"]):\n",
    "    \"\"\"\n",
    "    \"\"\"\n",
    "    taxids_str = \",\".join(str(x) for x in taxids)\n",
    "    protein_str = \",\".join(x for x in protein)\n",
    "    print(taxids_str)\n",
    "    requestURL = \"https://www.ebi.ac.uk/proteins/api/proteins?offset=0&size=\" + str(size) + \"&taxid=\" +\\\n",
    "                    taxids_str + \"&reviewed=false\"\n",
    "    if protein != []:\n",
    "        requestURL += \"&gene=\" + protein_str \n",
    "    print(requestURL)\n",
    "    r = requests.get(requestURL, headers={ \"Accept\" : \"text/x-fasta\"})\n",
    "\n",
    "    if not r.ok:\n",
    "      r.raise_for_status()\n",
    "      sys.exit()\n",
    "\n",
    "    proteome = r.text\n",
    "    return proteome"
   ]
  },
  {
   "cell_type": "markdown",
   "metadata": {},
   "source": [
    "### Load streptococcus taxids"
   ]
  },
  {
   "cell_type": "code",
   "execution_count": 112,
   "metadata": {},
   "outputs": [
    {
     "name": "stdout",
     "output_type": "stream",
     "text": [
      "264199 Streptococcus thermophilus (strain ATCC BAA-250 / LMG 18311)\n",
      "299768 Streptococcus thermophilus (strain CNRZ 1066)\n",
      "322159 Streptococcus thermophilus (strain ATCC BAA-491 / LMD-9)\n",
      "767463 Streptococcus thermophilus (strain ND03)\n",
      "1042404 Streptococcus thermophilus CNCM I-1630\n",
      "1051074 Streptococcus thermophilus JIM 8232\n",
      "1073569 Streptococcus thermophilus MTCC 5460\n",
      "1073570 Streptococcus thermophilus MTCC 5461\n",
      "1091038 Streptococcus thermophilus DSM 20617\n",
      "1187956 Streptococcus thermophilus MN-ZLW-002\n",
      "1263110 Streptococcus thermophilus CAG:236\n",
      "1268061 Streptococcus thermophilus DGCC 7710\n",
      "1408178 Streptococcus thermophilus ASCC 1275\n",
      "1415776 Streptococcus thermophilus TH1435\n",
      "1423145 Streptococcus thermophilus TH1436\n",
      "1433288 Streptococcus thermophilus MTH17CL396\n",
      "1433289 Streptococcus thermophilus M17PTZA496\n",
      "1435972 Streptococcus thermophilus TH985\n",
      "1435974 Streptococcus thermophilus TH982\n",
      "1435981 Streptococcus thermophilus 1F8CT\n",
      "1436725 Streptococcus thermophilus TH1477\n",
      "1302 Streptococcus gordonii\n",
      "1303 Streptococcus oralis\n",
      "1304 Streptococcus salivarius\n",
      "1305 Streptococcus sanguinis\n",
      "1306 Streptococcus sp.\n",
      "1307 Streptococcus suis\n",
      "1308 Streptococcus thermophilus\n",
      "1309 Streptococcus mutans\n",
      "1310 Streptococcus sobrinus\n",
      "1311 Streptococcus agalactiae\n",
      "1313 Streptococcus pneumoniae\n",
      "1314 Streptococcus pyogenes\n",
      "1317 Streptococcus downei\n",
      "1318 Streptococcus parasanguinis\n",
      "1319 Streptococcus sp. 'group B'\n",
      "1320 Streptococcus sp. group G\n",
      "1324 Streptococcus sp. G148\n",
      "1325 Streptococcus sp. GX7805\n",
      "1326 Streptococcus acidominimus\n",
      "1328 Streptococcus anginosus\n",
      "1329 Streptococcus canis\n",
      "1332 Streptococcus criae\n",
      "1333 Streptococcus criceti\n",
      "1334 Streptococcus dysgalactiae\n",
      "1335 Streptococcus equinus\n",
      "1336 Streptococcus equi\n",
      "1337 Streptococcus hyointestinalis\n",
      "1338 Streptococcus intermedius\n",
      "1339 Streptococcus macacae\n",
      "1340 Streptococcus porcinus\n",
      "1341 Streptococcus ratti\n",
      "1343 Streptococcus vestibularis\n",
      "1345 Streptococcus ferus\n",
      "1346 Streptococcus iniae\n",
      "1348 Streptococcus parauberis\n",
      "1349 Streptococcus uberis\n",
      "10728 Streptococcus pneumoniae phage HB-3\n",
      "10747 Streptococcus phage Cp-1\n",
      "10748 Streptococcus phage Cp-7\n",
      "10749 Streptococcus phage Cp-9\n",
      "12344 Streptococcus phage Cp-5\n",
      "12366 Streptococcus pyogenes phage H4489A\n",
      "12402 Streptococcus phage EJ-1\n",
      "28037 Streptococcus mitis\n",
      "29389 Streptococcus alactolyticus\n",
      "29390 Streptococcus gordonii str. Challis\n",
      "33040 Streptococcus milleri\n",
      "33972 Streptococcus sp. 'group C'\n",
      "35344 Streptococcus pyogenes phage T12\n",
      "36470 Streptococcus sp. 'group A'\n",
      "39425 Streptococcus phage T270\n",
      "40041 Streptococcus equi subsp. zooepidemicus\n",
      "40287 Streptococcus mutans serotype C\n",
      "45634 Streptococcus cristatus\n",
      "53354 Streptococcus gallolyticus\n",
      "55085 Streptococcus thoraltensis\n",
      "59310 Streptococcus macedonicus\n",
      "64186 Streptococcus virus Sfi21\n",
      "68891 Streptococcus peroris\n",
      "68892 Streptococcus infantis\n",
      "69017 Streptococcus sp. (strain 19909)\n",
      "72638 Streptococcus virus Sfi19\n",
      "73422 Streptococcus phage TP-J34\n",
      "73492 Streptococcus pyogenes phage\n",
      "74382 Streptococcus phage SFi18\n",
      "76860 Streptococcus constellatus\n",
      "78535 Streptococcus viridans\n",
      "78541 Streptococcus virus Sfi11\n",
      "82269 Streptococcus sp. 28D\n",
      "82348 Streptococcus pluranimalium\n",
      "82806 Streptococcus ovis\n",
      "83545 Streptococcus sp. KN1\n",
      "83546 Streptococcus sp. KN2\n",
      "83547 Streptococcus sp. KN3\n",
      "83549 Streptococcus sp. TW1\n",
      "85154 Streptococcus phage O1205\n",
      "86065 Streptococcus pyogenes phage H10403\n",
      "90410 Streptococcus virus DT1\n",
      "99822 Streptococcus dysgalactiae subsp. dysgalactiae\n",
      "102143 Streptococcus phage S3b\n",
      "102144 Streptococcus phage S92\n",
      "102145 Streptococcus phage ST3\n",
      "102146 Streptococcus phage ST64\n",
      "102147 Streptococcus phage Sfi16A\n",
      "102150 Streptococcus phage J1\n",
      "102684 Streptococcus infantarius\n",
      "102886 Streptococcus didelphis\n",
      "104215 Streptococcus sp. 1400-98\n",
      "112023 Streptococcus virus 7201\n",
      "113107 Streptococcus australis\n",
      "114652 Streptococcus orisratti\n",
      "116154 Streptococcus sp. Z1227\n",
      "116155 Streptococcus sp. Z12\n",
      "116156 Streptococcus sp. Z89\n",
      "118670 Streptococcus sp. PSH2\n",
      "118671 Streptococcus sp. PSH1a\n",
      "118672 Streptococcus sp. PSH1b\n",
      "119224 Streptococcus phocae\n",
      "119602 Streptococcus dysgalactiae subsp. equisimilis\n",
      "119603 Streptococcus dysgalactiae group\n"
     ]
    }
   ],
   "source": [
    "termophilus_taxa,  termophilus_names = load_taxa(\"Streptococcus thermophilus\")\n",
    "streptococcus_taxa,  streptococcus_names = load_taxa(\"Streptococcus\")\n",
    "dump(termophilus_taxa, \"termophilus_taxa\")\n",
    "dump(termophilus_names, \"termophilus_names\")\n",
    "dump(streptococcus_taxa, \"streptococcus_taxa\")\n",
    "dump(streptococcus_names, \"streptococcus_names\")"
   ]
  },
  {
   "cell_type": "markdown",
   "metadata": {},
   "source": [
    "### Load lactobacillus taxids"
   ]
  },
  {
   "cell_type": "code",
   "execution_count": 113,
   "metadata": {},
   "outputs": [
    {
     "name": "stdout",
     "output_type": "stream",
     "text": [
      "1579 Lactobacillus acidophilus\n",
      "1580 Lactobacillus brevis\n",
      "1581 Lactobacillus buchneri\n",
      "1582 Lactobacillus casei\n",
      "1584 Lactobacillus delbrueckii\n",
      "1585 Lactobacillus delbrueckii subsp. bulgaricus\n",
      "1587 Lactobacillus helveticus\n",
      "1588 Lactobacillus hilgardii\n",
      "1589 Lactobacillus pentosus\n",
      "1590 Lactobacillus plantarum\n",
      "1591 Lactobacillus sp.\n",
      "1593 Lactobacillus sp. (strain 30a)\n",
      "1596 Lactobacillus gasseri\n",
      "1597 Lactobacillus paracasei\n",
      "1598 Lactobacillus reuteri\n",
      "1599 Lactobacillus sakei\n",
      "1600 Lactobacillus acetotolerans\n",
      "1601 Lactobacillus agilis\n",
      "1602 Lactobacillus alimentarius\n",
      "1603 Lactobacillus amylophilus\n",
      "1604 Lactobacillus amylovorus\n",
      "1605 Lactobacillus animalis\n",
      "1606 Lactobacillus aviarius\n",
      "1607 Lactobacillus bifermentans\n",
      "1610 Lactobacillus coryniformis\n",
      "1612 Lactobacillus farciminis\n",
      "1613 Lactobacillus fermentum\n",
      "1614 Lactobacillus fructivorans\n",
      "1618 Lactobacillus mali\n",
      "1622 Lactobacillus murinus\n",
      "1623 Lactobacillus ruminis\n",
      "1624 Lactobacillus salivarius\n",
      "1625 Lactobacillus sanfranciscensis\n",
      "1626 Lactobacillus sharpeae\n",
      "1627 Lactobacillus thermophilus\n",
      "1628 Lactobacillus vermiforme\n",
      "1632 Lactobacillus oris\n",
      "1633 Lactobacillus vaginalis\n",
      "1634 Lactobacillus sakei L45\n",
      "12417 Lactobacillus phage phiadh\n",
      "28038 Lactobacillus curvatus\n",
      "28039 Lactobacillus leichmannii\n",
      "29273 Lactobacillus phage J1\n",
      "29397 Lactobacillus delbrueckii subsp. lactis\n",
      "29398 Lactobacillus heterohiochii\n",
      "29399 Lactobacillus japonicus\n",
      "33959 Lactobacillus johnsonii\n",
      "33960 Lactobacillus collinoides\n",
      "33961 Lactobacillus homohiochii\n",
      "33962 Lactobacillus kefiri\n",
      "35787 Lactobacillus pontis\n",
      "37105 Lactobacillus phage JCL1032\n",
      "39103 Lactobacillus phage PL-1\n",
      "44272 Lactobacillus helveticus subsp. jugurti\n",
      "47493 Lactobacillus panis\n",
      "47714 Lactobacillus paracasei subsp. paracasei\n",
      "47715 Lactobacillus rhamnosus\n",
      "47770 Lactobacillus crispatus\n",
      "51369 Lactobacillus phage A2\n",
      "51664 Lactobacillus dextrinicus\n",
      "52242 Lactobacillus gallinarum\n",
      "52979 Lactobacillus phage phig1e\n",
      "53444 Lactobacillus lindneri\n",
      "57037 Lactobacillus zeae\n",
      "60519 Lactobacillus graminis\n",
      "60520 Lactobacillus paraplantarum\n",
      "81857 Lactobacillus selangorensis\n",
      "82688 Lactobacillus nagelii\n",
      "83526 Lactobacillus paralimentarius\n",
      "83683 Lactobacillus amylolyticus\n",
      "83684 Lactobacillus delbrueckii subsp. delbrueckii\n",
      "88164 Lactobacillus fornicalis\n",
      "88233 Lactobacillus manihotivorans\n",
      "88430 Lactobacillus sp. LM-17\n",
      "89059 Lactobacillus acidipiscis\n",
      "89060 Lactobacillus sp. FS1111\n",
      "91019 Lactobacillus phage phiFSW\n",
      "94706 Lactobacillus sp. MRS-III06\n",
      "94707 Lactobacillus sp. MRS-II22\n",
      "96565 Lactobacillus hamsteri\n",
      "97137 Lactobacillus sp. ASF360\n",
      "97478 Lactobacillus mucosae\n",
      "100468 Lactobacillus perolens\n",
      "104955 Lactobacillus frumenti\n",
      "105612 Lactobacillus algidus\n",
      "106493 Lactobacillus phage LL-K\n",
      "106576 Lactobacillus sp. C33LV5\n",
      "106577 Lactobacillus sp. G24\n",
      "109790 Lactobacillus jensenii\n",
      "113051 Lactobacillus sp. GTH2\n",
      "113052 Lactobacillus sp. GTH24\n",
      "113053 Lactobacillus sp. GTH28\n",
      "113054 Lactobacillus sp. GTH6\n",
      "113055 Lactobacillus sp. GTH26\n",
      "113056 Lactobacillus sp. GTP5\n",
      "113057 Lactobacillus sp. GTS2\n",
      "113058 Lactobacillus sp. GTH22\n",
      "113059 Lactobacillus sp. GTH18\n",
      "113060 Lactobacillus sp. GTH29\n",
      "113061 Lactobacillus sp. JN1\n",
      "321956 Lactobacillus delbrueckii subsp. bulgaricus (strain ATCC BAA-365)\n",
      "353496 Lactobacillus delbrueckii subsp. bulgaricus (strain 2038)\n",
      "390333 Lactobacillus delbrueckii subsp. bulgaricus (strain ATCC 11842 / DSM 20081 / JCM 1002 / NBRC 13953 / NCIMB 11778)\n",
      "767455 Lactobacillus delbrueckii subsp. bulgaricus (strain ND02)\n",
      "784613 Lactobacillus delbrueckii subsp. bulgaricus PB2003/044-T3-4\n",
      "1042399 Lactobacillus delbrueckii subsp. bulgaricus CNCM I-1632\n",
      "1042400 Lactobacillus delbrueckii subsp. bulgaricus CNCM I-1519\n"
     ]
    }
   ],
   "source": [
    "lactobacillus_taxa,  lactobacillus_names = load_taxa(\"Lactobacillus\")\n",
    "bulgaricus_taxa,  bulgaricus_names = load_taxa(\"Lactobacillus delbrueckii subsp. bulgaricus\")\n",
    "\n",
    "dump(lactobacillus_taxa, \"lactobacillus_taxa\")\n",
    "dump(lactobacillus_names, \"lactobacillus_names\")\n",
    "dump(bulgaricus_taxa, \"bulgaricus_taxa\")\n",
    "dump(bulgaricus_names, \"bulgaricus_names\")"
   ]
  },
  {
   "cell_type": "markdown",
   "metadata": {},
   "source": [
    "### Load streptococcus proteomes"
   ]
  },
  {
   "cell_type": "code",
   "execution_count": 41,
   "metadata": {},
   "outputs": [
    {
     "name": "stdout",
     "output_type": "stream",
     "text": [
      "[1302, 1303, 1304, 1305, 1306, 1307, 1308, 1309, 1310, 1311, 1313, 1314, 1317, 1318, 1319, 1320, 1324, 1325, 1326]\n",
      "[264199, 299768, 322159, 767463, 1042404, 1051074, 1073569, 1073570, 1091038, 1187956, 1263110, 1268061, 1408178, 1415776, 1423145, 1433288, 1433289, 1435972, 1435974]\n",
      "1302,1303,1304,1305,1306,1307,1308,1309,1310,1311,1313,1314,1317,1318,1319,1320,1324,1325,1326\n",
      "https://www.ebi.ac.uk/proteins/api/proteins?offset=0&size=-1&taxid=1302,1303,1304,1305,1306,1307,1308,1309,1310,1311,1313,1314,1317,1318,1319,1320,1324,1325,1326&reviewed=false\n",
      "264199,299768,322159,767463,1042404,1051074,1073569,1073570,1091038,1187956,1263110,1268061,1408178,1415776,1423145,1433288,1433289,1435972,1435974\n",
      "https://www.ebi.ac.uk/proteins/api/proteins?offset=0&size=-1&taxid=264199,299768,322159,767463,1042404,1051074,1073569,1073570,1091038,1187956,1263110,1268061,1408178,1415776,1423145,1433288,1433289,1435972,1435974&reviewed=false\n"
     ]
    }
   ],
   "source": [
    "RESTART = True\n",
    "VERBOSE = True\n",
    "# If [] return all the proteins\n",
    "PROTEIN_LIST = []\n",
    "\n",
    "if RESTART:\n",
    "    termophilus_taxa = load(\"termophilus_taxa\")\n",
    "    streptococcus_taxa = load(\"streptococcus_taxa\")\n",
    "    \n",
    "# We limit to 20 taxids (it's the maximum for webservice and it should be enough\n",
    "termophilus_taxids = termophilus_taxa[0:19]\n",
    "streptococcus_taxids = streptococcus_taxa[0:19]\n",
    "print(streptococcus_taxids)\n",
    "print(termophilus_taxids)\n",
    "\n",
    "#streptococcus_proteome = load_proteome(streptococcus_taxids, -1, protein = [\"LDH\", \"CAS2\", \"CAS3\"])\n",
    "#termophilus_proteome = load_proteome(termophilus_taxids, -1, protein = [\"LDH\", \"CAS2\", \"CAS3\"])\n",
    "\n",
    "streptococcus_proteome_complete = load_proteome(streptococcus_taxids, -1, PROTEIN_LIST)\n",
    "termophilus_proteome_complete = load_proteome(termophilus_taxids, -1, PROTEIN_LIST)\n",
    "\n",
    "dump(streptococcus_proteome_complete, \"streptococcus_proteome_complete\")\n",
    "dump(termophilus_proteome_complete, \"termophilus_proteome_complete\")"
   ]
  },
  {
   "cell_type": "code",
   "execution_count": 63,
   "metadata": {},
   "outputs": [
    {
     "name": "stdout",
     "output_type": "stream",
     "text": [
      ">tr|V6CG59|V6CG59_STRTN Proteolysis tag peptide encoded by tmRNA Strep_therm_CNRZ10 (Fragment) OS=Streptococcus thermophilus (strain ND03) OX=767463 GN=tmRNA Strep_therm_CNRZ10 PE=4 SV=1\n",
      "AKNTNSYAVAA\n",
      ">tr|V6CG54|V6CG54_STRTR Proteolysis tag peptide encoded by tmRNA Strep_therm (Fragment) OS=Streptococcus thermophilus MN-ZLW-002 OX=1187956 GN=tmRNA Strep_therm PE=4 SV=1\n",
      "AKNTNSYAVAA\n",
      ">tr|V6CG50|V6CG50_STRTR Proteolysis tag peptide encoded by tmRNA Strep_therm_CNRZ10 (Fragment) OS=Streptococcus thermophilus MTCC 5461 OX=1073570 GN=tmRNA Strep_therm_CNRZ10 PE=4 SV=1\n",
      "AKNTNSYAVAA\n",
      ">tr|V6BJW4|V6BJW4_STRTR Proteolysis tag peptide encoded by tmRNA Strep_therm_CNRZ10 (Fragment) OS=Streptococcus thermophilus MTCC 5460 OX=1073569 GN=tmRNA Strep_therm_CNRZ10 PE=4 SV=1\n",
      "AKNTNSYAVAA\n",
      ">tr|V6CE29|V6CE29_STRT1 Proteolysis tag peptide encoded by tmRNA Strep_therm_CNRZ10 (Fragment) OS=Streptococcus thermophilus (strain CNRZ 1066) OX=299768 GN=tmRNA Strep_therm_CNRZ10 PE=4 SV=1\n",
      "AKNTNSYAVAA\n",
      ">tr|A0A1L1QK15|A0A1L1Q\n",
      ">tr|D1MQ05|D1MQ05_STRDO Sortase OS=Streptococcus downei OX=1317 GN=srtA PE=4 SV=1\n",
      "MKRTSSRNSKGRKEKESSKKKHHWLRTILVLFLMVVGLALVFNRSIRNSVIAWNTNKYQV\n",
      "SKVDKKTLTKNKKAKVNYDFDSVKSISAQSVISSQMDAQDLPVIGGIAIPDLELNLPIFK\n",
      "GLGNTELSYGAGTMKESQVMGGENNYALASHHVFGVNGASKMLFSPLENAKNGMEIYLTD\n",
      "KNKVYTYIISEVKTVEPSDVAVINDTPGAKNLTLVTCDDAEATNRIIVSANYKEEVSYDK\n",
      "ASQKMIEAFNRSYNQLSL\n",
      ">tr|A7VLR2|A7VLR2_STRDO Autolysin OS=Streptococcus downei OX=1317 GN=atlh PE=4 SV=1\n",
      "MRKKMYKVKKHWVIASAAALTVLGTSGLVAADEQSYPQTGASRELASVSTDPSVTATDTQ\n",
      "DSPKSVENTSQPASTSTLDDSSQEGQNQLVDETSQSSQSEPAGSETISDWETDNQSASEV\n",
      "QSSQRDSEAQIQAPASTNQVDPSDEEDQLQVADQTINEGSRVLRASAGATVARATAAGQS\n",
      "SSEVTSASVSGKTLIIHYNRSIASNEALYFAVWTEENDQDDMVWYQANAQGAAYIDLSKH\n",
      "RFYGKYIIHTYSVINGQNIGRNATSIMVNPPKISSKIEATSNGDYKLTVGNVSSDITEVF\n",
      "VPVWSDKNDQDDMIWYHADKVNANTYSLTIKPANHHNDFDHYSVHIYGQSSITRGLIGLS\n",
      "ATPGFERKETASSSKVAPQNKVRASLGANGIQLHLDTNEAADLSNIYFAVWSQVGDQDDI\n",
      "HWYPADGSLSALAPYSNHSGYGTYHIHTYANKNSKFVGINTTSIEVPSPSASAKISKQDD\n",
      "ATYNVKIDKVSSYITSVLVPVWTQKNDQDDIVWYPASKQSDGSYSATIKLKDHNFESGKY\n",
      "LVHLYGYSSLEGGRLVGLGATD\n"
     ]
    }
   ],
   "source": [
    "print(termophilus_proteome_complete[0:1000])\n",
    "print(streptococcus_proteome_complete[0:1000])"
   ]
  },
  {
   "cell_type": "markdown",
   "metadata": {},
   "source": [
    "### Load lactobacillus proteomes"
   ]
  },
  {
   "cell_type": "code",
   "execution_count": 114,
   "metadata": {},
   "outputs": [
    {
     "name": "stdout",
     "output_type": "stream",
     "text": [
      "[1579, 1580, 1581, 1582, 1584, 1585, 1587, 1588, 1589, 1590, 1591, 1593, 1596, 1597, 1598, 1599, 1600, 1601, 1602]\n",
      "[321956, 353496, 390333, 767455, 784613, 1042399, 1042400]\n",
      "1579,1580,1581,1582,1584,1585,1587,1588,1589,1590,1591,1593,1596,1597,1598,1599,1600,1601,1602\n",
      "https://www.ebi.ac.uk/proteins/api/proteins?offset=0&size=-1&taxid=1579,1580,1581,1582,1584,1585,1587,1588,1589,1590,1591,1593,1596,1597,1598,1599,1600,1601,1602&reviewed=false\n",
      "321956,353496,390333,767455,784613,1042399,1042400\n",
      "https://www.ebi.ac.uk/proteins/api/proteins?offset=0&size=-1&taxid=321956,353496,390333,767455,784613,1042399,1042400&reviewed=false\n"
     ]
    }
   ],
   "source": [
    "RESTART = True\n",
    "VERBOSE = True\n",
    "# If [] return all the proteins\n",
    "PROTEIN_LIST = []\n",
    "\n",
    "if RESTART:\n",
    "    lactobacillus_taxa = load(\"lactobacillus_taxa\")\n",
    "    lactobacillus_names = load(\"lactobacillus_names\")\n",
    "    bulgaricus_taxa = load(\"bulgaricus_taxa\")\n",
    "    bulgaricus_names = load(\"bulgaricus_names\")\n",
    "# We limit to 20 taxids (it's the maximum for webservice and it should be enough\n",
    "lactobacillus_taxids = lactobacillus_taxa[0:19]\n",
    "bulgaricus_taxids = bulgaricus_taxa[0:19]\n",
    "print(lactobacillus_taxids)\n",
    "print(bulgaricus_taxids)\n",
    "\n",
    "lactobacillus_proteome_complete = load_proteome(lactobacillus_taxids, -1, PROTEIN_LIST)\n",
    "bulgaricus_proteome_complete = load_proteome(bulgaricus_taxids, -1, PROTEIN_LIST)\n",
    "\n",
    "dump(lactobacillus_proteome_complete, \"lactobacillus_proteome_complete\")\n",
    "dump(bulgaricus_proteome_complete, \"bulgaricus_proteome_complete\")"
   ]
  },
  {
   "cell_type": "markdown",
   "metadata": {},
   "source": [
    "## Compute substitution rates"
   ]
  },
  {
   "cell_type": "markdown",
   "metadata": {},
   "source": [
    "### Methods"
   ]
  },
  {
   "cell_type": "code",
   "execution_count": 52,
   "metadata": {},
   "outputs": [],
   "source": [
    "import re\n",
    "\n",
    "def proteome2dict(proteome_fasta):\n",
    "    \"\"\"\n",
    "    Returns a dict with keys protein accession and values the list of fasta format for all taxids\n",
    "    This is the basis for clustalw alignments and tree generation\n",
    "    \"\"\"\n",
    "    proteome = {}\n",
    "    key_found = False\n",
    "    for line in proteome_fasta.splitlines():\n",
    "        if len(line) > 0:\n",
    "            if line[0] == \">\":\n",
    "                if key_found:\n",
    "                    if key in proteome:\n",
    "                        proteome[key].append(seq)\n",
    "                    else:\n",
    "                        proteome[key] = [seq]  \n",
    "                search_gene_name = re.search('GN=(\\w*)', line)\n",
    "                if search_gene_name:\n",
    "                    key = search_gene_name.group(1).upper()\n",
    "                    key_found = True  \n",
    "                #print(key)\n",
    "                seq = line + '\\n'\n",
    "            elif key_found:\n",
    "                seq += line + '\\n'\n",
    "    if key_found:\n",
    "        if key in proteome:\n",
    "            proteome[key].append(seq)\n",
    "        else:\n",
    "            proteome[key] = [seq]\n",
    "    return proteome"
   ]
  },
  {
   "cell_type": "code",
   "execution_count": 80,
   "metadata": {},
   "outputs": [],
   "source": [
    "# Phylo tree with clustalw. We need to measure the substitution rate.\n",
    "import matplotlib\n",
    "import matplotlib.pyplot as plt\n",
    "%matplotlib inline\n",
    "from Bio import Phylo\n",
    "from io import StringIO\n",
    "import os\n",
    "from Bio.Align.Applications import ClustalwCommandline\n",
    "CLUSTALW = r\"./clustalw2\"\n",
    "assert os.path.isfile(CLUSTALW), \"Clustal W executable missing\"\n",
    "plt.rcParams[\"figure.figsize\"] = (20,30)\n",
    "matplotlib.rc('font', size=12)\n",
    "        \n",
    "def compute_mean_subst_rate(proteome, verbose=False, show_tree=False):\n",
    "    \"\"\"\n",
    "    \"\"\"\n",
    "    clustalw_cline = ClustalwCommandline(CLUSTALW, infile=proteome + \".fasta\")\n",
    "    stdout, stderr = clustalw_cline()\n",
    "    f = open(proteome + \".dnd\", \"r\")\n",
    "    s_tree = f.read()\n",
    "    f.close()\n",
    "    #print(s_tree)\n",
    "    branch_len = 0\n",
    "    num_branches = 0\n",
    "    search_branch_length = re.findall(':([-.0123456789]*)', s_tree)\n",
    "    for branch_length in search_branch_length:\n",
    "        #print(branch_length)\n",
    "        if branch_length != \"0.00000\":\n",
    "            branch_len += float(branch_length)\n",
    "            num_branches += 1\n",
    "    if num_branches > 0:\n",
    "        rate = branch_len/num_branches\n",
    "    else:\n",
    "        rate = -1\n",
    "    if verbose: print(branch_len, num_branches, rate)\n",
    "    if show_tree:\n",
    "        tree = Phylo.read(proteome + \".dnd\", \"newick\")\n",
    "        Phylo.draw(tree)\n",
    "    return rate\n",
    "\n",
    "def compute_subst_rates(proteome, proteome_keys, proteome_name, verbose=False):\n",
    "    \"\"\"\n",
    "    \"\"\"\n",
    "    subst_rates = {}\n",
    "    for protein in proteome_keys:\n",
    "        if verbose: print(protein)\n",
    "        protein_sequence = \"\"\n",
    "        # Only for proteins with enough sequences to make a tree\n",
    "        if len(proteome[protein]) >= 3:\n",
    "            for sequence in proteome[protein]:\n",
    "                protein_sequence += sequence\n",
    "            fasta_file_name = proteome_name + \"_\" + protein\n",
    "            f = open(fasta_file_name + \".fasta\", \"w\")\n",
    "            if verbose: print(protein_sequence)\n",
    "            f.write(protein_sequence)\n",
    "            f.close()\n",
    "            mean_subst_rate = compute_mean_subst_rate(fasta_file_name)\n",
    "            subst_rates[protein] = mean_subst_rate\n",
    "    return subst_rates"
   ]
  },
  {
   "cell_type": "markdown",
   "metadata": {},
   "source": [
    "### Fasta to dictionary"
   ]
  },
  {
   "cell_type": "code",
   "execution_count": 64,
   "metadata": {},
   "outputs": [
    {
     "name": "stdout",
     "output_type": "stream",
     "text": [
      "['TMRNA', 'BN551_00358', 'GALT', 'LACZ', 'SBCD', 'GALR', 'DNAN', 'STU0007', 'FTSH', 'MREC', 'ARAT', 'PURL', 'STU0044', 'STU0052', 'STU0053', 'TAG', 'STU0075', 'STU0082', 'LABC', 'STU0110', 'STU0113', 'ILVA', 'STU0161', 'STU0182', 'STU0202', 'STU0208', 'STU0251', 'STU0258', 'STU0267', 'CBIM', 'STU0297', 'TRKH2', 'DNAB', 'SERS', 'STU0330', 'STU0334', 'STU0338', 'STU0339', 'METB1', 'STU0358', 'LIVM', 'HPF', 'FABF', 'FRUR', 'STU0422', 'STU0435', 'PHOH', 'STU0448', 'METS', 'STU0452', 'PRTM', 'ARGB', 'STU0468', 'STU0473', 'STU0474', 'STU0475', 'FTSW', 'DNAH', 'NAGA', 'STU0510', 'STU0516', 'STU0539', 'STU0551', 'STU0557', 'STU0565', 'HLYIII', 'STU0580', 'STU0595', 'MURN', 'NNRD', 'RNR', 'STU0631', 'STU0636', 'AROE', 'MIP', 'CAS2', 'STU0665', 'STU0668', 'STU0672', 'STU0675', 'STU0678', 'STU0679', 'STU0681', 'STU0693', 'STU0695', 'GPMC', 'STU0702', 'STU0704', 'LEMA', 'STU0721', 'APBE', 'DLTX', 'STU0811', 'STU0819', 'STU0829', 'ADCA', 'MUR2', 'STU0876', 'STU0877', 'STHIM']\n",
      "['SRTA', 'ATLH', 'DBLB', 'RPOA', 'PHES', 'DEX', 'RPOB', 'GBPC3', 'GROEL', 'GTF', 'GROS', 'SODA', 'DBLA', 'GYRB', 'RECA', 'ATPA', 'ERMTR', 'MEF', 'EMM', 'TUF', 'PAH', 'GBPC2', 'GBPC1', 'ERMB', 'GFBA', 'SILB', 'SILCR', 'NADE', 'ENO1', 'SPAA', 'PROTEIN', 'EMML', 'BLPM', 'SILD', 'SILC', 'SILA', 'SSO1', 'GTFU', 'GLUCOSYLTRANSFERASE', 'DEI', 'PAR', 'CAS1', 'SILE', 'SU1', 'SU2', 'GTFI', 'GROES', 'DBLC', 'CPN60', 'CAS2', 'FTSK', 'GTFS', 'CMK', 'GALU', 'SSO2', 'LCD', 'GTFT', 'PAG', 'FOLP', 'RODA', 'HISC', 'ATLG', 'GTFC', 'DRPA', 'MUTF', 'SRLB', 'SRLE', 'SRLM', 'MUTC', 'ORF', 'SLOB', 'MUTA', 'MUTP', 'MUTG', 'SATC', 'MUTR', 'COMC', 'RMPB', 'PSAA', 'MEPA', 'MBRA', 'RGPE', 'RGPA', 'RGPF', 'SMBG', 'SMBB', 'GBPC', 'A6J86_007565', 'LPP', 'DDL', 'DLTD', 'ORF2', 'RGPBC', 'GTFB', 'GTFD', 'PYK', 'SPAP', 'PPAC', 'LEPC', 'ATLA']\n"
     ]
    }
   ],
   "source": [
    "#Proteomes in fasta to dictionaries\n",
    "RESTART = True\n",
    "VERBOSE = True\n",
    "\n",
    "if RESTART:\n",
    "    termophilus_proteome_fasta = load(\"termophilus_proteome_complete\")\n",
    "    streptococcus_proteome_fasta = load(\"streptococcus_proteome_complete\")\n",
    "\n",
    "#print(termophilus_proteome_fasta)\n",
    "proteome_termophilus = proteome2dict(termophilus_proteome_fasta)\n",
    "proteome_streptococcus = proteome2dict(streptococcus_proteome_fasta)\n",
    "\n",
    "dump(proteome_termophilus, \"proteome_termophilus\")\n",
    "dump(proteome_streptococcus, \"proteome_streptococcus\")\n",
    "\n",
    "if VERBOSE: print(list(proteome_termophilus.keys())[0:100])\n",
    "if VERBOSE: print(list(proteome_streptococcus.keys())[0:100])"
   ]
  },
  {
   "cell_type": "code",
   "execution_count": 115,
   "metadata": {},
   "outputs": [
    {
     "name": "stdout",
     "output_type": "stream",
     "text": [
      "['TMRNA', 'EXOA', 'LDB0010', 'LDB0021', 'LDB0026', 'LDB0031', 'LDB0191', 'LDB0200', 'PHNB', 'LDB0206', 'LDB0207', 'NRDG', 'LDB0226', 'LDB0229', 'LDB0233', 'LDB0252', 'LDB0271', 'OPPA3II', 'OPPCII', 'OPPDII', 'LDB0301', 'LDB0313', 'LDB0314', 'LDB0327', 'LDB0329', 'LDB0332', 'LDB0351', 'CSHA', 'LDB0365', 'FTSH', 'LYSS', 'LDB0374', 'LDB0378', 'CBIQ', 'LDB0431', 'LDB0432', 'LDB0435', 'LDB0438', 'LDB0447', 'LDB0448', 'LDB0453', 'NADE', 'LDB0482', 'PEPD1', 'UDK1', 'GLNH1', 'GLNP', 'PPX', 'LDB0533', 'LDB0541', 'FLAV', 'LDB0563', 'LDB0567', 'PTSH', 'PTSI', 'SPX', 'HPF', 'UVRB', 'UVRA', 'LDB0631', 'CGGR', 'GAP', 'POTD1', 'LDB0671', 'LDB0675', 'COMGC', 'ACK', 'LDB0689', 'LDB0691', 'HEMK', 'MREB2', 'FTSA', 'FTSZ', 'LDB0754', 'RECD', 'RNJ', 'LDB0808', 'LDB0812', 'LDB0827', 'LDB0844', 'LDB0849', 'LDB0861', 'LDB0877', 'FABF', 'ACCC', 'LDB0930', 'PHOU', 'LDB0967', 'LDB0977', 'LDB0980', 'MVAD', 'DNAD', 'NTH', 'LDB1015', 'LDB1019', 'LSP', 'LDB1025', 'LDB1031', 'LDB1099', 'LDB1087']\n",
      "['TETM', 'RPOA', 'ATPD', 'RECA', 'HSP60', 'TUF', 'DNAK', 'PHES', 'HISS', 'LEUS', 'RPOB', 'GND', 'RPLB', 'CK', 'ADI', 'HDCA', 'GLDA', 'GLDH', 'SLPLH1', 'HDCC', 'HDCB', 'GROEL', 'FAEB', 'FAEA', 'OTC', 'GLDE', 'HDCP', 'ABC5', 'MLE', 'RECN', 'GLDD', 'GLDG', 'GLDK', 'GLDB', 'GLDC', 'HISRS', 'GTF', 'YVYE', 'SECA', 'RF2', 'ORFX', 'HDHA', 'PEPQ', 'CLPE', 'CLPP', 'DSY26_01720', 'DSY26_01985', 'DSY26_01415', 'GALU', 'DSY26_00135', 'DSY26_00025', 'DSY26_02640', 'DSY26_02455', 'DSY26_03410', 'DSY26_03165', 'FABZ', 'DSY26_01640', 'DSY26_01520', 'DSY26_05985', 'DSY26_01330', 'DSY26_06325', 'DSY26_02175', 'DSY26_02125', 'DSY26_06155', 'DSY26_01945', 'DSY26_06660', 'DSY26_01840', 'DSY26_01535', 'DSY26_01465', 'CDD', 'TYPA', 'DSY26_07045', 'DSY26_01225', 'DSY26_07555', 'DSY26_01105', 'DSY26_07710', 'PGSA', 'DSY26_00880', 'DSY26_02255', 'DSY26_08090', 'DSY26_08220', 'DSY26_02485', 'DSY26_02415', 'DSY26_02355', 'DSY26_01955', 'DSY26_08415', 'NRDJ', 'DSY26_00270', 'DSY26_02180', 'DSY26_01610', 'DSY26_03155', 'DSY26_03435', 'ASNC', 'DSY26_01745', 'DSY26_01875', 'DSY26_00950', 'DSY26_02730', 'DSY26_02675', 'DSY26_00770', 'DSY26_02565']\n"
     ]
    }
   ],
   "source": [
    "#Proteomes in fasta to dictionaries\n",
    "RESTART = True\n",
    "VERBOSE = True\n",
    "\n",
    "if RESTART:\n",
    "    bulgaricus_proteome_fasta = load(\"bulgaricus_proteome_complete\")\n",
    "    lactobacillus_proteome_fasta = load(\"lactobacillus_proteome_complete\")\n",
    "\n",
    "proteome_bulgaricus = proteome2dict(bulgaricus_proteome_fasta)\n",
    "proteome_lactobacillus = proteome2dict(lactobacillus_proteome_fasta)\n",
    "\n",
    "dump(proteome_bulgaricus, \"proteome_bulgaricus\")\n",
    "dump(proteome_lactobacillus, \"proteome_lactobacillus\")\n",
    "\n",
    "if VERBOSE: print(list(proteome_bulgaricus.keys())[0:100])\n",
    "if VERBOSE: print(list(proteome_lactobacillus.keys())[0:100])"
   ]
  },
  {
   "cell_type": "markdown",
   "metadata": {},
   "source": [
    "### Substitution rates"
   ]
  },
  {
   "cell_type": "code",
   "execution_count": 81,
   "metadata": {
    "code_folding": []
   },
   "outputs": [
    {
     "name": "stdout",
     "output_type": "stream",
     "text": [
      "['TMRNA', 'GALT', 'LACZ', 'SBCD', 'GALR', 'DNAN', 'FTSH', 'MREC', 'ARAT', 'PURL', 'TAG', 'LABC', 'ILVA', 'CBIM', 'TRKH2', 'DNAB', 'SERS', 'LIVM', 'HPF', 'FABF']\n",
      "Proteins we need to process: 964\n",
      "Proteins we want to process: 20\n",
      "{'termophilus': {'TMRNA': -1, 'GALT': 0.014773333333333333, 'LACZ': 0.00292, 'SBCD': 0.00245625, 'FTSH': 0.00262, 'ILVA': 0.0024, 'SERS': 0.001318888888888889, 'HPF': 0.01282, 'FABF': 0.31672}, 'streptococcus': {'TMRNA': 0.10939888888888888, 'GALT': 0.011721821086261982, 'LACZ': 0.028357828947368432, 'SBCD': 0.05702195652173911, 'GALR': 0.0795148, 'DNAN': 0.01873888888888889, 'FTSH': 0.017297005347593573, 'MREC': 0.06296962962962963, 'ARAT': 0.17196846153846151, 'PURL': 0.012450666666666667, 'TAG': 0.02267730769230769, 'ILVA': 0.012551562499999992, 'CBIM': 0.10676333333333335, 'TRKH2': 0.16780555555555557, 'DNAB': 0.09844512820512821, 'SERS': 0.008190401785714287, 'LIVM': 0.027198333333333328, 'HPF': 0.03110622641509432, 'FABF': 0.029105231788079465}}\n"
     ]
    }
   ],
   "source": [
    "#Proteomes in fasta to dictionaries\n",
    "RESTART = True\n",
    "VERBOSE = True\n",
    "#Protein limit\n",
    "LIMIT = 20 \n",
    "\n",
    "if RESTART:\n",
    "    proteome_termophilus = load(\"proteome_termophilus\")\n",
    "    proteome_streptococcus = load(\"proteome_streptococcus\")\n",
    "\n",
    "# Compute keys to process: only the keys that are included in both groups\n",
    "proteome_keys = []\n",
    "for key in proteome_termophilus.keys():\n",
    "    if key in proteome_streptococcus.keys():\n",
    "        proteome_keys.append(key)\n",
    "\n",
    "if VERBOSE: print(proteome_keys[0:LIMIT])\n",
    "print(\"Proteins we need to process:\", len(proteome_keys))\n",
    "limit =  min(len(proteome_keys), LIMIT) \n",
    "print(\"Proteins we want to process:\", limit)\n",
    "\n",
    "# Compute branch lengths\n",
    "subst_rates_groups = {}\n",
    "subst_rates_groups[\"termophilus\"] = compute_subst_rates(proteome_termophilus, proteome_keys[0:limit],\n",
    "                                                        \"termophilus\", False)\n",
    "subst_rates_groups[\"streptococcus\"] = compute_subst_rates(proteome_streptococcus, proteome_keys[0:limit], \n",
    "                                                          \"streptococcus\", False)\n",
    "\n",
    "dump(subst_rates_groups, \"subst_rates_groups\")\n",
    "if VERBOSE: print(subst_rates_groups)  "
   ]
  },
  {
   "cell_type": "code",
   "execution_count": 128,
   "metadata": {},
   "outputs": [
    {
     "name": "stdout",
     "output_type": "stream",
     "text": [
      "['TMRNA', 'EXOA', 'PHNB', 'NRDG', 'CSHA', 'FTSH', 'LYSS', 'CBIQ', 'NADE', 'PEPD1', 'GLNH1', 'GLNP', 'PPX', 'PTSH', 'PTSI', 'SPX', 'HPF', 'UVRB', 'UVRA', 'CGGR', 'GAP', 'COMGC', 'HEMK', 'FTSA', 'FTSZ', 'RECD', 'RNJ', 'FABF', 'ACCC', 'PHOU', 'MVAD', 'DNAD', 'NTH', 'LSP', 'MOD', 'POLC', 'OPPB', 'RECG', 'RPMA', 'PURF', 'PURS', 'CFA', 'PHET', 'PRSA', 'REX', 'PYRR2', 'PEPC', 'THIJ', 'THRC', 'GLPQ']\n",
      "Proteins we need to process: 664\n",
      "Proteins we want to process: 50\n",
      "{'bulgaricus': {'TMRNA': -1, 'CSHA': 0.01663, 'FTSH': 0.0023866666666666667, 'LYSS': 0.01397, 'NADE': 0.009055, 'HPF': 0.00541, 'UVRB': 0.0040425, 'UVRA': 0.0035033333333333336, 'FTSA': 0.011955, 'FTSZ': 0.0060825, 'RNJ': 0.06184272727272726, 'NTH': 0.00478, 'POLC': 0.0029900000000000005, 'RECG': 0.0024533333333333334, 'RPMA': 0.01003, 'PURF': 0.0038640000000000002, 'PURS': 0.02439, 'PHET': 0.00934, 'PRSA': 0.010936666666666666, 'REX': 0.022005}, 'lactobacillus': {'TMRNA': 0.09091, 'EXOA': 0.1424788888888889, 'NRDG': 0.04172188679245283, 'CSHA': 0.029512741935483876, 'FTSH': 0.017883125000000003, 'LYSS': 0.015703070175438597, 'CBIQ': 0.06663888888888889, 'NADE': 0.020291111111111117, 'PPX': 0.08499444444444443, 'PTSH': 0.10795666666666666, 'PTSI': 0.09214411764705883, 'HPF': 0.040429199999999985, 'UVRB': 0.0182108527131783, 'UVRA': 0.01776475, 'CGGR': 0.11341333333333334, 'GAP': 0.04136581395348837, 'HEMK': 0.196304, 'FTSA': 0.030103584905660376, 'FTSZ': 0.029649259259259254, 'RECD': 0.11507000000000002, 'RNJ': 0.018687327188940086, 'FABF': 0.030076666666666675, 'ACCC': 0.039767567567567566, 'PHOU': 0.07015690909090912, 'MVAD': 0.05137633802816899, 'DNAD': 0.2577, 'NTH': 0.03143635416666666, 'POLC': 0.01936439189189189, 'OPPB': 0.14599, 'RECG': 0.01724738853503185, 'RPMA': 0.06790682926829267, 'PURF': 0.015611698113207553, 'PURS': 0.03728014084507042, 'CFA': 0.15947, 'PHET': 0.0215886, 'PRSA': 0.03705391025641024, 'REX': 0.028940109890109877, 'PEPC': 0.04863730769230771, 'THRC': 0.228004, 'GLPQ': 0.38304333333333335}}\n"
     ]
    }
   ],
   "source": [
    "#Proteomes in fasta to dictionaries\n",
    "RESTART = True\n",
    "VERBOSE = True\n",
    "#Protein limit\n",
    "LIMIT = 50\n",
    "\n",
    "if RESTART:\n",
    "    proteome_bulgaricus = load(\"proteome_bulgaricus\")\n",
    "    proteome_lactobacillus = load(\"proteome_lactobacillus\")\n",
    "\n",
    "# Compute keys to process: only the keys that are included in both groups\n",
    "proteome_keys = []\n",
    "for key in proteome_bulgaricus.keys():\n",
    "    if key in proteome_lactobacillus.keys():\n",
    "        proteome_keys.append(key)\n",
    "\n",
    "if VERBOSE: print(proteome_keys[0:LIMIT])\n",
    "print(\"Proteins we need to process:\", len(proteome_keys))\n",
    "limit =  min(len(proteome_keys), LIMIT) \n",
    "print(\"Proteins we want to process:\", limit)\n",
    "\n",
    "# Compute branch lengths\n",
    "subst_rates_groups_lacto = {}\n",
    "subst_rates_groups_lacto[\"bulgaricus\"] = compute_subst_rates(proteome_bulgaricus, proteome_keys[0:limit],\n",
    "                                                        \"bulgaricus\", False)\n",
    "subst_rates_groups_lacto[\"lactobacillus\"] = compute_subst_rates(proteome_lactobacillus, proteome_keys[0:limit], \n",
    "                                                          \"lactobacillus\", False)\n",
    "\n",
    "dump(subst_rates_groups_lacto, \"subst_rates_groups_lacto\")\n",
    "if VERBOSE: print(subst_rates_groups_lacto)  "
   ]
  },
  {
   "cell_type": "markdown",
   "metadata": {},
   "source": [
    "## Selection of first set of target proteins\n",
    "At this step is necessary to calculate the ratios, the means of the ratios and select the more extreme between them (two tailed percentile 80%)."
   ]
  },
  {
   "cell_type": "markdown",
   "metadata": {},
   "source": [
    "### Methods"
   ]
  },
  {
   "cell_type": "code",
   "execution_count": 95,
   "metadata": {},
   "outputs": [],
   "source": [
    "# Compute branch ratios\n",
    "# Compute mean of branch ratios and standard deviation\n",
    "# Obtain the most extreme values. \n",
    "# These are the proteins that could have been a slowdown or from his initial state\n",
    "import statistics as stats\n",
    "\n",
    "def compute_branch_ratios(subst_rates_groups, group1, group2, verbose=False):\n",
    "    \"\"\" \n",
    "    For every protein in group1 that has counterpart in group2 calculate the ratio of\n",
    "    branch lengths.\n",
    "    \n",
    "    Returns:\n",
    "        dict of string, float: ratios by protein\n",
    "    \"\"\"\n",
    "    ratios = {}\n",
    "    for protein in subst_rates_groups[group1].keys():\n",
    "        if protein in subst_rates_groups[group2].keys():\n",
    "            ratio = subst_rates_groups[group1][protein]/(subst_rates_groups[group2][protein] + 0.00001)\n",
    "            if subst_rates_groups[group1][protein] != -1 and subst_rates_groups[group2][protein] != -1:\n",
    "                ratios[protein] = ratio\n",
    "            if verbose: print(group1, protein, \n",
    "                              subst_rates_groups[group1][protein], \n",
    "                              subst_rates_groups[group2][protein],\n",
    "                              ratio)\n",
    "    return ratios\n",
    "\n",
    "def compute_mean_std(ratios, verbose=False):\n",
    "    \"\"\"\n",
    "    Calculate mean and std for ratios\n",
    "    \"\"\"\n",
    "    ratios_list =  list(ratios.values())\n",
    "    if verbose: print(\"ratios_list\",ratios_list)\n",
    "    ratios_mean = stats.mean(ratios_list)\n",
    "    ratios_stdev = stats.stdev(ratios_list)\n",
    "    return ratios_mean, ratios_stdev\n",
    "\n",
    "def filter_target_proteins(ratios, mean, std, n_std, verbose=False):\n",
    "    \"\"\"\n",
    "    Filter proteins that are n_std > mean or n_std < mean\n",
    "    \"\"\"\n",
    "    proteins = []\n",
    "    for protein in ratios.keys():\n",
    "        if verbose: print(protein, ratios[protein], mean, std)\n",
    "        if ratios[protein] > mean + n_std * std or ratios[protein] < mean - n_std * std:\n",
    "            proteins.append(protein)\n",
    "    return proteins"
   ]
  },
  {
   "cell_type": "markdown",
   "metadata": {},
   "source": [
    "### Selection of target proteins"
   ]
  },
  {
   "cell_type": "code",
   "execution_count": 101,
   "metadata": {},
   "outputs": [
    {
     "name": "stdout",
     "output_type": "stream",
     "text": [
      "Target proteins: ['FABF']\n"
     ]
    }
   ],
   "source": [
    "RESTART = True\n",
    "VERBOSE = False\n",
    "\n",
    "if RESTART:\n",
    "    subst_rates_groups = load(\"subst_rates_groups\")\n",
    "\n",
    "rat = compute_branch_ratios(subst_rates_groups, \"termophilus\", \"streptococcus\", VERBOSE)   \n",
    "if VERBOSE: print(rat)\n",
    "\n",
    "if len(rat) > 1:\n",
    "    mean, std = compute_mean_std(rat, VERBOSE)\n",
    "    if VERBOSE: print(\"\\nMean\", mean, \"Standard deviation\", std, \"\\n\")\n",
    "    prot = filter_target_proteins(rat, mean, std, 0.8, VERBOSE)\n",
    "    print(\"Target proteins Streptococcus:\", prot)\n",
    "else:\n",
    "    print(\"No results: protein input number < 2\")"
   ]
  },
  {
   "cell_type": "code",
   "execution_count": 129,
   "metadata": {},
   "outputs": [
    {
     "name": "stdout",
     "output_type": "stream",
     "text": [
      "bulgaricus TMRNA -1 0.09091 -10.998680158380994\n",
      "bulgaricus CSHA 0.01663 0.029512741935483876 0.5632945624204412\n",
      "bulgaricus FTSH 0.0023866666666666667 0.017883125000000003 0.13338456343800573\n",
      "bulgaricus LYSS 0.01397 0.015703070175438597 0.8890687716673459\n",
      "bulgaricus NADE 0.009055 0.020291111111111117 0.4460346997974932\n",
      "bulgaricus HPF 0.00541 0.040429199999999985 0.13378108370096345\n",
      "bulgaricus UVRB 0.0040425 0.0182108527131783 0.22186118639092267\n",
      "bulgaricus UVRA 0.0035033333333333336 0.01776475 0.19709606792406834\n",
      "bulgaricus FTSA 0.011955 0.030103584905660376 0.3969969048006918\n",
      "bulgaricus FTSZ 0.0060825 0.029649259259259254 0.20507929570429576\n",
      "bulgaricus RNJ 0.06184272727272726 0.018687327188940086 3.307570469714447\n",
      "bulgaricus NTH 0.00478 0.03143635416666666 0.1520049025291088\n",
      "bulgaricus POLC 0.0029900000000000005 0.01936439189189189 0.15432742440041716\n",
      "bulgaricus RECG 0.0024533333333333334 0.01724738853503185 0.14216133155680877\n",
      "bulgaricus RPMA 0.01003 0.06790682926829267 0.1476806280278246\n",
      "bulgaricus PURF 0.0038640000000000002 0.015611698113207553 0.24734826982305688\n",
      "bulgaricus PURS 0.02439 0.03728014084507042 0.6540602810092159\n",
      "bulgaricus PHET 0.00934 0.0215886 0.43243543563008713\n",
      "bulgaricus PRSA 0.010936666666666666 0.03705391025641024 0.29507589973659504\n",
      "bulgaricus REX 0.022005 0.028940109890109877 0.7601007417079785\n",
      "{'CSHA': 0.5632945624204412, 'FTSH': 0.13338456343800573, 'LYSS': 0.8890687716673459, 'NADE': 0.4460346997974932, 'HPF': 0.13378108370096345, 'UVRB': 0.22186118639092267, 'UVRA': 0.19709606792406834, 'FTSA': 0.3969969048006918, 'FTSZ': 0.20507929570429576, 'RNJ': 3.307570469714447, 'NTH': 0.1520049025291088, 'POLC': 0.15432742440041716, 'RECG': 0.14216133155680877, 'RPMA': 0.1476806280278246, 'PURF': 0.24734826982305688, 'PURS': 0.6540602810092159, 'PHET': 0.43243543563008713, 'PRSA': 0.29507589973659504, 'REX': 0.7601007417079785}\n",
      "ratios_list [0.5632945624204412, 0.13338456343800573, 0.8890687716673459, 0.4460346997974932, 0.13378108370096345, 0.22186118639092267, 0.19709606792406834, 0.3969969048006918, 0.20507929570429576, 3.307570469714447, 0.1520049025291088, 0.15432742440041716, 0.14216133155680877, 0.1476806280278246, 0.24734826982305688, 0.6540602810092159, 0.43243543563008713, 0.29507589973659504, 0.7601007417079785]\n",
      "\n",
      "Mean 0.4989138168410404 Standard deviation 0.7176540409439205 \n",
      "\n",
      "CSHA 0.5632945624204412 0.4989138168410404 0.7176540409439205\n",
      "FTSH 0.13338456343800573 0.4989138168410404 0.7176540409439205\n",
      "LYSS 0.8890687716673459 0.4989138168410404 0.7176540409439205\n",
      "NADE 0.4460346997974932 0.4989138168410404 0.7176540409439205\n",
      "HPF 0.13378108370096345 0.4989138168410404 0.7176540409439205\n",
      "UVRB 0.22186118639092267 0.4989138168410404 0.7176540409439205\n",
      "UVRA 0.19709606792406834 0.4989138168410404 0.7176540409439205\n",
      "FTSA 0.3969969048006918 0.4989138168410404 0.7176540409439205\n",
      "FTSZ 0.20507929570429576 0.4989138168410404 0.7176540409439205\n",
      "RNJ 3.307570469714447 0.4989138168410404 0.7176540409439205\n",
      "NTH 0.1520049025291088 0.4989138168410404 0.7176540409439205\n",
      "POLC 0.15432742440041716 0.4989138168410404 0.7176540409439205\n",
      "RECG 0.14216133155680877 0.4989138168410404 0.7176540409439205\n",
      "RPMA 0.1476806280278246 0.4989138168410404 0.7176540409439205\n",
      "PURF 0.24734826982305688 0.4989138168410404 0.7176540409439205\n",
      "PURS 0.6540602810092159 0.4989138168410404 0.7176540409439205\n",
      "PHET 0.43243543563008713 0.4989138168410404 0.7176540409439205\n",
      "PRSA 0.29507589973659504 0.4989138168410404 0.7176540409439205\n",
      "REX 0.7601007417079785 0.4989138168410404 0.7176540409439205\n",
      "Target proteins Lactobacillus: ['RNJ']\n"
     ]
    }
   ],
   "source": [
    "RESTART = True\n",
    "VERBOSE = True\n",
    "\n",
    "if RESTART:\n",
    "    subst_rates_groups_lacto = load(\"subst_rates_groups_lacto\")\n",
    "\n",
    "rat = compute_branch_ratios(subst_rates_groups_lacto, \"bulgaricus\", \"lactobacillus\", VERBOSE)   \n",
    "if VERBOSE: print(rat)\n",
    "\n",
    "if len(rat) > 1:\n",
    "    mean, std = compute_mean_std(rat, VERBOSE)\n",
    "    if VERBOSE: print(\"\\nMean\", mean, \"Standard deviation\", std, \"\\n\")\n",
    "    prot = filter_target_proteins(rat, mean, std, 0.8, VERBOSE)\n",
    "    print(\"Target proteins Lactobacillus:\", prot)\n",
    "else:\n",
    "    print(\"No results: protein input number < 2\")"
   ]
  },
  {
   "cell_type": "markdown",
   "metadata": {},
   "source": [
    "## Final thoughts\n",
    "At this stage we make a explanation of the results, justifications and propose a better computational approach.\n",
    "\n",
    "It's not mandatory that we have confidence on this explanation, but it should seem credible."
   ]
  },
  {
   "cell_type": "markdown",
   "metadata": {},
   "source": [
    "# Generate document outputs."
   ]
  },
  {
   "cell_type": "code",
   "execution_count": 131,
   "metadata": {},
   "outputs": [
    {
     "name": "stderr",
     "output_type": "stream",
     "text": [
      "[NbConvertApp] Converting notebook coevolution.ipynb to latex\n",
      "[NbConvertApp] Writing 67023 bytes to coevolution.tex\n"
     ]
    }
   ],
   "source": [
    "%%bash\n",
    "#cd /Users/nandoide/Desktop/uni/STRBI.practical\n",
    "jupyter nbconvert --to=latex --template=~/report.tplx coevolution.ipynb 1> /dev/null\n",
    "pdflatex -shell-escape coevolution 1> /dev/null"
   ]
  }
 ],
 "metadata": {
  "hide_input": false,
  "kernelspec": {
   "display_name": "Python 3",
   "language": "python",
   "name": "python3"
  },
  "language_info": {
   "codemirror_mode": {
    "name": "ipython",
    "version": 3
   },
   "file_extension": ".py",
   "mimetype": "text/x-python",
   "name": "python",
   "nbconvert_exporter": "python",
   "pygments_lexer": "ipython3",
   "version": "3.6.6"
  },
  "latex_envs": {
   "LaTeX_envs_menu_present": true,
   "autoclose": false,
   "autocomplete": true,
   "bibliofile": "biblio.bib",
   "cite_by": "apalike",
   "current_citInitial": 1,
   "eqLabelWithNumbers": true,
   "eqNumInitial": 1,
   "hotkeys": {
    "equation": "Ctrl-E",
    "itemize": "Ctrl-I"
   },
   "labels_anchors": false,
   "latex_user_defs": false,
   "report_style_numbering": false,
   "user_envs_cfg": false
  },
  "latex_metadata": {
   "author": "Elena Montenegro, Sara González, Sofía Cerdá, Fernando Freire",
   "title": "Look for co-evolution"
  },
  "nbTranslate": {
   "displayLangs": [
    "en",
    "sp"
   ],
   "hotkey": "alt-t",
   "langInMainMenu": true,
   "sourceLang": "auto",
   "targetLang": "en",
   "useGoogleTranslate": true
  },
  "toc": {
   "base_numbering": 1,
   "nav_menu": {},
   "number_sections": true,
   "sideBar": true,
   "skip_h1_title": false,
   "title_cell": "Table of Contents",
   "title_sidebar": "Contents",
   "toc_cell": false,
   "toc_position": {
    "height": "calc(100% - 180px)",
    "left": "10px",
    "top": "150px",
    "width": "165px"
   },
   "toc_section_display": true,
   "toc_window_display": true
  },
  "varInspector": {
   "cols": {
    "lenName": 16,
    "lenType": 16,
    "lenVar": 40
   },
   "kernels_config": {
    "python": {
     "delete_cmd_postfix": "",
     "delete_cmd_prefix": "del ",
     "library": "var_list.py",
     "varRefreshCmd": "print(var_dic_list())"
    },
    "r": {
     "delete_cmd_postfix": ") ",
     "delete_cmd_prefix": "rm(",
     "library": "var_list.r",
     "varRefreshCmd": "cat(var_dic_list()) "
    }
   },
   "types_to_exclude": [
    "module",
    "function",
    "builtin_function_or_method",
    "instance",
    "_Feature"
   ],
   "window_display": false
  }
 },
 "nbformat": 4,
 "nbformat_minor": 2
}
